{
 "cells": [
  {
   "cell_type": "code",
   "execution_count": 1,
   "id": "a5feacea",
   "metadata": {},
   "outputs": [],
   "source": [
    "from docplex.mp.model import Model"
   ]
  },
  {
   "cell_type": "code",
   "execution_count": 2,
   "id": "7ce27243",
   "metadata": {},
   "outputs": [],
   "source": [
    "m = Model(name = 'Optimal Tons')"
   ]
  },
  {
   "cell_type": "markdown",
   "id": "a3835d57",
   "metadata": {},
   "source": [
    "Variables"
   ]
  },
  {
   "cell_type": "code",
   "execution_count": 3,
   "id": "c6827d3e",
   "metadata": {},
   "outputs": [],
   "source": [
    "#Ton Variables\n",
    "\n",
    "tonspb1 = m.continuous_var(lb = 0, ub = 300)\n",
    "tonspb2 = m.continuous_var(lb = 0, ub = 500)\n",
    "tonspb3 = m.continuous_var(lb = 0, ub = 600)\n",
    "tonspb4 = m.continuous_var(lb = 0, ub = 400)\n"
   ]
  },
  {
   "cell_type": "code",
   "execution_count": 4,
   "id": "70a2669f",
   "metadata": {},
   "outputs": [],
   "source": [
    "#Grade Variables(Cu%)\n",
    "\n",
    "gradepb1 = 0.5\n",
    "gradepb2 = 1\n",
    "gradepb3 = .7\n",
    "gradepb4 = 1.5"
   ]
  },
  {
   "cell_type": "code",
   "execution_count": 5,
   "id": "805b0cb7",
   "metadata": {},
   "outputs": [],
   "source": [
    "#stripping ratio (Waste:Ore)\n",
    "\n",
    "srpb1 = 1\n",
    "srpb2 = 2.5\n",
    "srpb3 = 4\n",
    "srpb4 = 2"
   ]
  },
  {
   "cell_type": "code",
   "execution_count": 6,
   "id": "c29c87da",
   "metadata": {},
   "outputs": [],
   "source": [
    "#Profit ($/ton)\n",
    "\n",
    "profitpb1 = 2\n",
    "profitpb2 = 3\n",
    "profitpb3 = 1\n",
    "profitpb4 = 4"
   ]
  },
  {
   "cell_type": "markdown",
   "id": "72973867",
   "metadata": {},
   "source": [
    "Constraints"
   ]
  },
  {
   "cell_type": "code",
   "execution_count": 7,
   "id": "e56299fa",
   "metadata": {},
   "outputs": [],
   "source": [
    "tonproductionconstraint = m.add_constraint(tonspb1 + tonspb2 + tonspb3 + tonspb4 <= 1200)\n",
    "\n",
    "gradeconstraint = m.add_constraint(((gradepb1*tonspb1 + gradepb2*tonspb2 + gradepb3*tonspb3 + gradepb4*tonspb4) / 1200) >= 0.9)\n",
    "\n",
    "stripratioconstraint1 = m.add_constraint(((srpb1*tonspb1 + srpb2*tonspb2 + srpb3*tonspb3 + srpb4*tonspb4) / 1200) >= 2)\n",
    "stripratioconstraint2 = m.add_constraint(((srpb1*tonspb1 + srpb2*tonspb2 + srpb3*tonspb3 + srpb4*tonspb4) / 1200) <= 3)\n"
   ]
  },
  {
   "cell_type": "markdown",
   "id": "027a442e",
   "metadata": {},
   "source": [
    "Goal"
   ]
  },
  {
   "cell_type": "code",
   "execution_count": 8,
   "id": "bc54535b",
   "metadata": {},
   "outputs": [],
   "source": [
    "m.maximize(profitpb1*tonspb1 + profitpb2*tonspb2 + profitpb3*tonspb3 + profitpb4*tonspb4)"
   ]
  },
  {
   "cell_type": "code",
   "execution_count": 9,
   "id": "3df527fc",
   "metadata": {},
   "outputs": [],
   "source": [
    "sol = m.solve()"
   ]
  },
  {
   "cell_type": "code",
   "execution_count": 13,
   "id": "a20dfcfa",
   "metadata": {},
   "outputs": [
    {
     "name": "stdout",
     "output_type": "stream",
     "text": [
      "solution for: Optimal Tons\n",
      "objective: 3683.333\n",
      "status: OPTIMAL_SOLUTION(2)\n",
      "x1 = 283.333\n",
      "x2 = 500.000\n",
      "x3 = 16.667\n",
      "x4 = 400.000\n"
     ]
    }
   ],
   "source": [
    "sol.display()\n",
    "\n"
   ]
  }
 ],
 "metadata": {
  "kernelspec": {
   "display_name": "Python 3",
   "language": "python",
   "name": "python3"
  },
  "language_info": {
   "codemirror_mode": {
    "name": "ipython",
    "version": 3
   },
   "file_extension": ".py",
   "mimetype": "text/x-python",
   "name": "python",
   "nbconvert_exporter": "python",
   "pygments_lexer": "ipython3",
   "version": "3.8.8"
  }
 },
 "nbformat": 4,
 "nbformat_minor": 5
}
